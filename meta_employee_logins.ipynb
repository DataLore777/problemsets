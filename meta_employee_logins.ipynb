{
    "metadata": {
        "kernelspec": {
            "name": "SQL",
            "display_name": "SQL",
            "language": "sql"
        },
        "language_info": {
            "name": "sql",
            "version": ""
        }
    },
    "nbformat_minor": 2,
    "nbformat": 4,
    "cells": [
        {
            "cell_type": "markdown",
            "source": [
                "# Unique Users Per Client Per Month\n",
                "\n",
                "### \n",
                "\n",
                "Last Updated: February 2025\n",
                "\n",
                "Apple\n",
                "\n",
                "Dell\n",
                "\n",
                "Microsoft\n",
                "\n",
                "EasyID 2024\n",
                "\n",
                "166\n",
                "\n",
                "Data Engineer\n",
                "\n",
                "Data Scientist\n",
                "\n",
                "BI Analyst\n",
                "\n",
                "Data Analyst\n",
                "\n",
                "ML Engineer\n",
                "\n",
                "* * *\n",
                "\n",
                "Write a query that returns the number of unique users per client per month\n",
                "\n",
                "###   \n",
                "\n",
                "### fact\\_events\n",
                "\n",
                "client\\_id:varchar\n",
                "\n",
                "customer\\_id:varchar\n",
                "\n",
                "event\\_id:bigint\n",
                "\n",
                "event\\_type:varchar\n",
                "\n",
                "id:bigint\n",
                "\n",
                "time\\_id:datetime2\n",
                "\n",
                "user\\_id:varchar"
            ],
            "metadata": {
                "language": "sql",
                "azdata_cell_guid": "d5956ce2-95c6-453d-a59a-463c7036fb71"
            },
            "attachments": {}
        },
        {
            "cell_type": "code",
            "source": [
                "SELECT client_id,\r\n",
                "       MONTH(time_id) as month,\r\n",
                "       COUNT(DISTINCT user_id) as users_num\r\n",
                "FROM fact_events\r\n",
                "GROUP BY client_id,\r\n",
                "          MONTH(time_id)"
            ],
            "metadata": {
                "azdata_cell_guid": "81b1c01d-caba-4c1f-8c4f-237bc0d32d31",
                "language": "sql",
                "tags": []
            },
            "outputs": [],
            "execution_count": null
        }
    ]
}