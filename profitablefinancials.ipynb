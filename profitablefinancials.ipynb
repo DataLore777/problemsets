{
    "metadata": {
        "kernelspec": {
            "name": "SQL",
            "display_name": "SQL",
            "language": "sql"
        },
        "language_info": {
            "name": "sql",
            "version": ""
        }
    },
    "nbformat_minor": 2,
    "nbformat": 4,
    "cells": [
        {
            "cell_type": "markdown",
            "source": [
                "# Most Profitable Financial Company\n",
                "\n",
                "Last Updated: February 2025\n",
                "\n",
                "Forbes\n",
                "\n",
                "EasyID 9663\n",
                "\n",
                "132\n",
                "\n",
                "Data Engineer\n",
                "\n",
                "Data Scientist\n",
                "\n",
                "BI Analyst\n",
                "\n",
                "Data Analyst\n",
                "\n",
                "ML Engineer\n",
                "\n",
                "* * *\n",
                "\n",
                "Find the most profitable company from the financial sector. Output the result along with the continent.\n",
                "\n",
                "Table: forbes\\_global\\_2010\\_2014\n",
                "\n",
                "  \n",
                "\n",
                "forbes\\_global\\_2010\\_2014\n",
                "\n",
                "\\--------------------------------------\n",
                "\n",
                "assets        : FLOAT\n",
                "\n",
                "company       : VARCHAR\n",
                "\n",
                "continent     : VARCHAR\n",
                "\n",
                "country       : VARCHAR\n",
                "\n",
                "industry      : VARCHAR\n",
                "\n",
                "market\\_value  : FLOAT\n",
                "\n",
                "profits       : FLOAT\n",
                "\n",
                "rank          : BIGINT\n",
                "\n",
                "sales         : FLOAT\n",
                "\n",
                "sector        : VARCHAR"
            ],
            "metadata": {
                "azdata_cell_guid": "ce0fe0ee-9b51-472f-af40-bc7e5a3502e2"
            },
            "attachments": {}
        },
        {
            "cell_type": "code",
            "source": [
                "SELECT TOP 1 company, continent \r\n",
                "FROM forbes_global_2010_2014\r\n",
                "WHERE sector = 'Financials'\r\n",
                "ORDER BY profits DESC;"
            ],
            "metadata": {
                "azdata_cell_guid": "28fd82de-0d7b-4743-8ed4-c1900e57b078",
                "language": "sql"
            },
            "outputs": [],
            "execution_count": null
        }
    ]
}