{
    "metadata": {
        "kernelspec": {
            "name": "SQL",
            "display_name": "SQL",
            "language": "sql"
        },
        "language_info": {
            "name": "sql",
            "version": ""
        }
    },
    "nbformat_minor": 2,
    "nbformat": 4,
    "cells": [
        {
            "cell_type": "markdown",
            "source": [
                "# Premium Accounts\n",
                "\n",
                "Last Updated: February 2025\n",
                "\n",
                "Meta\n",
                "\n",
                "Asana\n",
                "\n",
                "MediumID 2097\n",
                "\n",
                "129\n",
                "\n",
                "Data Engineer\n",
                "\n",
                "Data Scientist\n",
                "\n",
                "BI Analyst\n",
                "\n",
                "Data Analyst\n",
                "\n",
                "ML Engineer\n",
                "\n",
                "* * *\n",
                "\n",
                "You are given a dataset that provides the number of active users per day per premium account. A premium account will have an entry for every day that it’s premium. However, a premium account may be temporarily discounted and considered not paid, this is indicated by a value of 0 in the final\\_price column for a certain day. Find out how many premium accounts that are paid on any given day are still premium and paid 7 days later. Output the date, the number of premium and paid accounts on that day, and the number of how many of these accounts are still premium and paid 7 days later. Since you are only given data for a 14 days period, only include the first 7 available dates in your output.\n",
                "\n",
                "Table: premium\\_accounts\\_by\\_day\n",
                "\n",
                "  \n",
                "\n",
                "premium\\_accounts\\_by\\_day\n",
                "\n",
                "\\----------------------------------------\n",
                "\n",
                "account\\_id         : VARCHAR\n",
                "\n",
                "entry\\_date         : DATETIME2\n",
                "\n",
                "final\\_price        : BIGINT\n",
                "\n",
                "plan\\_size          : BIGINT\n",
                "\n",
                "users\\_visited\\_7d   : BIGINT"
            ],
            "metadata": {
                "azdata_cell_guid": "38560e43-6576-4bba-a228-e59219d618c9"
            },
            "attachments": {}
        },
        {
            "cell_type": "code",
            "source": [
                "SELECT TOP 7 p.entry_date,\r\n",
                "    COUNT(p.account_id) AS premium_paid_accounts,\r\n",
                "    COUNT(q.account_id) AS premium_paid_accounts_after_7d\r\n",
                "FROM premium_accounts_by_day p\r\n",
                "LEFT JOIN premium_accounts_by_day q\r\n",
                "ON p.account_id = q.account_id\r\n",
                "AND datediff(DAY, p.entry_date, q.entry_date) = 7\r\n",
                "AND q.final_price > 0\r\n",
                "WHERE p.final_price > 0\r\n",
                "GROUP BY p.entry_date\r\n",
                "ORDER BY p.entry_date;"
            ],
            "metadata": {
                "azdata_cell_guid": "13830d22-3d93-4b0b-9352-08f9d76f74fc",
                "language": "sql"
            },
            "outputs": [],
            "execution_count": null
        }
    ]
}