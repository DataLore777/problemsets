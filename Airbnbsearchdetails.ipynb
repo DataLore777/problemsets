{
    "metadata": {
        "kernelspec": {
            "name": "SQL",
            "display_name": "SQL",
            "language": "sql"
        },
        "language_info": {
            "name": "sql",
            "version": ""
        }
    },
    "nbformat_minor": 2,
    "nbformat": 4,
    "cells": [
        {
            "cell_type": "markdown",
            "source": [
                "# Find the search details for villas and houses with wireless internet access\n",
                "\n",
                "### airbnb\\_search\\_details\n",
                "\n",
                "  \n",
                "\n",
                "accommodates               : BIGINT\n",
                "\n",
                "amenities                  : VARCHAR\n",
                "\n",
                "bathrooms                  : BIGINT\n",
                "\n",
                "bed\\_type                   : VARCHAR\n",
                "\n",
                "bedrooms                   : BIGINT\n",
                "\n",
                "beds                       : BIGINT\n",
                "\n",
                "cancellation\\_policy        : VARCHAR\n",
                "\n",
                "city                       : VARCHAR\n",
                "\n",
                "cleaning\\_fee               : BIT\n",
                "\n",
                "host\\_identity\\_verified     : VARCHAR\n",
                "\n",
                "host\\_response\\_rate         : VARCHAR\n",
                "\n",
                "host\\_since                 : DATETIME2\n",
                "\n",
                "id                         : BIGINT\n",
                "\n",
                "neighbourhood              : VARCHAR\n",
                "\n",
                "number\\_of\\_reviews          : BIGINT\n",
                "\n",
                "price                      : FLOAT\n",
                "\n",
                "property\\_type              : VARCHAR\n",
                "\n",
                "review\\_scores\\_rating       : FLOAT\n",
                "\n",
                "room\\_type                  : VARCHAR\n",
                "\n",
                "zipcode                    : BIGINT"
            ],
            "metadata": {
                "language": "sql",
                "azdata_cell_guid": "ffef8948-a59a-498f-956e-16907411fee0"
            },
            "attachments": {}
        },
        {
            "cell_type": "code",
            "source": [
                "SELECT * FROM airbnb_search_details\r\n",
                "    WHERE amenities LIKE '%Wireless Internet%' \r\n",
                "    AND (property_type = 'House' OR property_type = 'Villa');"
            ],
            "metadata": {
                "azdata_cell_guid": "b03311cc-144b-4142-ab62-31e2323c46e1",
                "language": "sql"
            },
            "outputs": [],
            "execution_count": null
        }
    ]
}