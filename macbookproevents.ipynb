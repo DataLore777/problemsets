{
    "metadata": {
        "kernelspec": {
            "name": "SQL",
            "display_name": "SQL",
            "language": "sql"
        },
        "language_info": {
            "name": "sql",
            "version": ""
        }
    },
    "nbformat_minor": 2,
    "nbformat": 4,
    "cells": [
        {
            "cell_type": "markdown",
            "source": [
                "# MacBookPro User Event Count\n",
                "\n",
                "Last Updated: February 2025\n",
                "\n",
                "Apple\n",
                "\n",
                "EasyID 9653\n",
                "\n",
                "145\n",
                "\n",
                "Data Engineer\n",
                "\n",
                "Data Scientist\n",
                "\n",
                "BI Analyst\n",
                "\n",
                "Data Analyst\n",
                "\n",
                "ML Engineer\n",
                "\n",
                "* * *\n",
                "\n",
                "Count the number of user events performed by MacBookPro users. Output the result along with the event name. Sort the result based on the event count in the descending order.\n",
                "\n",
                "  \n",
                "\n",
                "playbook\\_events\n",
                "\n",
                "\\-----------------------------------\n",
                "\n",
                "device       : VARCHAR\n",
                "\n",
                "event\\_name   : VARCHAR\n",
                "\n",
                "event\\_type   : VARCHAR\n",
                "\n",
                "location     : VARCHAR\n",
                "\n",
                "occurred\\_at  : DATETIME2\n",
                "\n",
                "user\\_id      : BIGINT"
            ],
            "metadata": {
                "azdata_cell_guid": "51280f4c-cb3f-4f29-8b64-53a8abbb3b92"
            },
            "attachments": {}
        },
        {
            "cell_type": "code",
            "source": [
                "SELECT event_name, COUNT(*)\r\n",
                "FROM playbook_events\r\n",
                "WHERE device = 'macbook pro'\r\n",
                "GROUP BY event_name\r\n",
                "ORDER BY COUNT(*) DESC;"
            ],
            "metadata": {
                "azdata_cell_guid": "3de4dc91-4cb7-4fb4-9f34-7fefa5e4d8d3",
                "language": "sql"
            },
            "outputs": [],
            "execution_count": null
        }
    ]
}