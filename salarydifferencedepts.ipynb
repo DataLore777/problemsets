{
    "metadata": {
        "kernelspec": {
            "name": "SQL",
            "display_name": "SQL",
            "language": "sql"
        },
        "language_info": {
            "name": "sql",
            "version": ""
        }
    },
    "nbformat_minor": 2,
    "nbformat": 4,
    "cells": [
        {
            "cell_type": "markdown",
            "source": [
                "# Salaries Differences\n",
                "\n",
                "Last Updated: February 2025\n",
                "\n",
                "LinkedIn\n",
                "\n",
                "Dropbox\n",
                "\n",
                "EasyID 10308\n",
                "\n",
                "847\n",
                "\n",
                "Data Engineer\n",
                "\n",
                "Data Scientist\n",
                "\n",
                "BI Analyst\n",
                "\n",
                "Data Analyst\n",
                "\n",
                "ML Engineer\n",
                "\n",
                "* * *\n",
                "\n",
                "Calculates the difference between the highest salaries in the marketing and engineering departments. Output just the absolute difference in salaries.\n",
                "\n",
                "Tables: db\\_employee, db\\_dept\n",
                "\n",
                "  \n",
                "\n",
                "db\\_employee\n",
                "\n",
                "\\---------------------------------\n",
                "\n",
                "department\\_id  : BIGINT\n",
                "\n",
                "first\\_name     : VARCHAR\n",
                "\n",
                "id             : BIGINT\n",
                "\n",
                "last\\_name      : VARCHAR\n",
                "\n",
                "salary         : BIGINT\n",
                "\n",
                "  \n",
                "\n",
                "db\\_dept\n",
                "\n",
                "\\---------------------------------\n",
                "\n",
                "department     : VARCHAR\n",
                "\n",
                "id             : BIGINT"
            ],
            "metadata": {
                "azdata_cell_guid": "21993922-8ef3-4f2f-8bf3-83a5928ed308"
            },
            "attachments": {}
        },
        {
            "cell_type": "code",
            "source": [
                "WITH max_sal AS (\r\n",
                "    SELECT d.department, MAX(salary) as max_salary\r\n",
                "    FROM db_employee AS e\r\n",
                "    JOIN db_dept AS d\r\n",
                "    ON e.department_id = d.id\r\n",
                "    WHERE d.department IN ('engineering', 'marketing')\r\n",
                "    GROUP BY d.department\r\n",
                ")\r\n",
                "\r\n",
                "SELECT ABS(\r\n",
                "    (SELECT max_salary FROM max_sal WHERE department = 'engineering') -\r\n",
                "    (SELECT max_salary FROM max_sal WHERE department = 'marketing')) AS salary_difference;"
            ],
            "metadata": {
                "azdata_cell_guid": "2cd3728e-a52f-42f7-9609-0316a7915007",
                "language": "sql"
            },
            "outputs": [],
            "execution_count": null
        }
    ]
}