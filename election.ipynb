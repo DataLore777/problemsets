{
    "metadata": {
        "kernelspec": {
            "name": "SQL",
            "display_name": "SQL",
            "language": "sql"
        },
        "language_info": {
            "name": "sql",
            "version": ""
        }
    },
    "nbformat_minor": 2,
    "nbformat": 4,
    "cells": [
        {
            "cell_type": "markdown",
            "source": [
                "#  Election Results\n",
                "\n",
                "Last Updated: February 2025\n",
                "\n",
                "Deloitte\n",
                "\n",
                "Google\n",
                "\n",
                "MediumID 2099\n",
                "\n",
                "155\n",
                "\n",
                "Data Engineer\n",
                "\n",
                "Data Scientist\n",
                "\n",
                "BI Analyst\n",
                "\n",
                "Data Analyst\n",
                "\n",
                "ML Engineer\n",
                "\n",
                "* * *\n",
                "\n",
                "The election is conducted in a city and everyone can vote for one or more candidates, or choose not to vote at all. Each person has 1 vote so if they vote for multiple candidates, their vote gets equally split across these candidates. For example, if a person votes for 2 candidates, these candidates receive an equivalent of 0.5 vote each. Some voters have chosen not to vote, which explains the blank entries in the dataset.\n",
                "\n",
                "Find out who got the most votes and won the election. Output the name of the candidate or multiple names in case of a tie. To avoid issues with a floating-point error you can round the number of votes received by a candidate to 3 decimal places.\n",
                "\n",
                "Table: voting\\_results\n",
                "\n",
                "  \n",
                "\n",
                "### voting\\_results\n",
                "\n",
                "candidate:   varchar\n",
                "\n",
                "voter:   varchar"
            ],
            "metadata": {
                "azdata_cell_guid": "eed75b9d-cba3-4ad0-ac71-b381ae95c2e3"
            },
            "attachments": {}
        },
        {
            "cell_type": "code",
            "source": [
                "WITH vote_share AS(\r\n",
                "    SELECT voter, COUNT(candidate) AS total_votes\r\n",
                "    FROM voting_results\r\n",
                "    GROUP BY voter\r\n",
                ")\r\n",
                "\r\n",
                "SELECT TOP 1 v.candidate\r\n",
                "FROM voting_results v\r\n",
                "JOIN vote_share vs\r\n",
                "ON vs.voter = v.voter\r\n",
                "GROUP BY v.candidate\r\n",
                "ORDER BY ROUND(SUM((1.0 / NULLIF(vs.total_votes, 0))), 3) DESC;"
            ],
            "metadata": {
                "azdata_cell_guid": "dfa25143-d835-4e43-9f69-1d28d12fa1a7",
                "language": "sql"
            },
            "outputs": [],
            "execution_count": null
        }
    ]
}