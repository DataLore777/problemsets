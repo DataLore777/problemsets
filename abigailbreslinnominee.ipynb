{
    "metadata": {
        "kernelspec": {
            "name": "SQL",
            "display_name": "SQL",
            "language": "sql"
        },
        "language_info": {
            "name": "sql",
            "version": ""
        }
    },
    "nbformat_minor": 2,
    "nbformat": 4,
    "cells": [
        {
            "cell_type": "markdown",
            "source": [
                "# Abigail Breslin Nominations\n",
                "\n",
                "Last Updated: July 2024\n",
                "\n",
                "Google\n",
                "\n",
                "Netflix\n",
                "\n",
                "EasyID 10128\n",
                "\n",
                "144\n",
                "\n",
                "Data Engineer\n",
                "\n",
                "Data Scientist\n",
                "\n",
                "BI Analyst\n",
                "\n",
                "Data Analyst\n",
                "\n",
                "ML Engineer\n",
                "\n",
                "* * *\n",
                "\n",
                "Count the number of movies for which Abigail Breslin was nominated for an Oscar.\n",
                "\n",
                "Table: oscar\\_nominees\n",
                "\n",
                "  \n",
                "\n",
                "oscar\\_nominees\n",
                "\n",
                "\\---------------------------------\n",
                "\n",
                "category  : VARCHAR\n",
                "\n",
                "id        : BIGINT\n",
                "\n",
                "movie     : VARCHAR\n",
                "\n",
                "nominee   : VARCHAR\n",
                "\n",
                "winner    : BIT\n",
                "\n",
                "year      : BIGINT"
            ],
            "metadata": {
                "azdata_cell_guid": "6c6903f3-8a10-4e07-a519-3b49d161cfea"
            },
            "attachments": {}
        },
        {
            "cell_type": "code",
            "source": [
                "SELECT COUNT(movie)\r\n",
                "FROM oscar_nominees\r\n",
                "WHERE nominee = 'Abigail Breslin';"
            ],
            "metadata": {
                "azdata_cell_guid": "a69f42b9-a290-42cf-a778-7202e2767f22",
                "language": "sql"
            },
            "outputs": [],
            "execution_count": null
        }
    ]
}