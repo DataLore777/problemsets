{
    "metadata": {
        "kernelspec": {
            "name": "SQL",
            "display_name": "SQL",
            "language": "sql"
        },
        "language_info": {
            "name": "sql",
            "version": ""
        }
    },
    "nbformat_minor": 2,
    "nbformat": 4,
    "cells": [
        {
            "cell_type": "markdown",
            "source": [
                "# Workers With The Highest Salaries\n",
                "\n",
                "Last Updated: October 2024\n",
                "\n",
                "Amazon\n",
                "\n",
                "DoorDash\n",
                "\n",
                "MediumID 10353\n",
                "\n",
                "589\n",
                "\n",
                "Data Engineer\n",
                "\n",
                "Data Scientist\n",
                "\n",
                "BI Analyst\n",
                "\n",
                "Data Analyst\n",
                "\n",
                "ML Engineer\n",
                "\n",
                "* * *\n",
                "\n",
                "Find the job titles of the employees with the highest salary. If multiple employees have the same highest salary, include the job titles for all such employees.\n",
                "\n",
                "Tables: worker, title\n",
                "\n",
                "  \n",
                "\n",
                "worker\n",
                "\n",
                "\\---------------------------------\n",
                "\n",
                "department    : VARCHAR\n",
                "\n",
                "first\\_name    : VARCHAR\n",
                "\n",
                "joining\\_date  : DATETIME2\n",
                "\n",
                "last\\_name     : VARCHAR\n",
                "\n",
                "salary        : BIGINT\n",
                "\n",
                "worker\\_id     : BIGINT\n",
                "\n",
                "  \n",
                "\n",
                "  \n",
                "\n",
                "title\n",
                "\n",
                "\\---------------------------------\n",
                "\n",
                "affected\\_from   : DATETIME2\n",
                "\n",
                "worker\\_ref\\_id   : BIGINT\n",
                "\n",
                "worker\\_title    : VARCHAR"
            ],
            "metadata": {
                "azdata_cell_guid": "f325e453-ab4b-40e5-a015-dadc55174c82"
            },
            "attachments": {}
        },
        {
            "cell_type": "code",
            "source": [
                "WITH max_salary AS (\r\n",
                "    SELECT MAX(salary) AS highest_salary\r\n",
                "    FROM worker)\r\n",
                "\r\n",
                "\r\n",
                "SELECT t.worker_title\r\n",
                "FROM worker w\r\n",
                "JOIN title t\r\n",
                "ON w.worker_id = t.worker_ref_id\r\n",
                "JOIN max_salary ms ON w.salary = ms.highest_salary\r\n",
                "ORDER BY salary DESC;"
            ],
            "metadata": {
                "azdata_cell_guid": "8e11828f-5228-4874-83f1-3592d574a32b",
                "language": "sql"
            },
            "outputs": [],
            "execution_count": null
        }
    ]
}