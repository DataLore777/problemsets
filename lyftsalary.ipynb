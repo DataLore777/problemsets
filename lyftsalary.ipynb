{
    "metadata": {
        "kernelspec": {
            "name": "SQL",
            "display_name": "SQL",
            "language": "sql"
        },
        "language_info": {
            "name": "sql",
            "version": ""
        }
    },
    "nbformat_minor": 2,
    "nbformat": 4,
    "cells": [
        {
            "cell_type": "markdown",
            "source": [
                "# Lyft Driver Wages\n",
                "\n",
                "Last Updated: February 2025\n",
                "\n",
                "Lyft\n",
                "\n",
                "EasyID 10003\n",
                "\n",
                "102\n",
                "\n",
                "Data Engineer\n",
                "\n",
                "Data Scientist\n",
                "\n",
                "BI Analyst\n",
                "\n",
                "Data Analyst\n",
                "\n",
                "ML Engineer\n",
                "\n",
                "* * *\n",
                "\n",
                "Find all Lyft drivers who earn either equal to or less than 30k USD or equal to or more than 70k USD. Output all details related to retrieved records.\n",
                "\n",
                "Table: lyft\\_drivers\n",
                "\n",
                "  \n",
                "\n",
                "lyft\\_drivers\n",
                "\n",
                "\\---------------------------------\n",
                "\n",
                "end\\_date       : DATETIME2\n",
                "\n",
                "index          : BIGINT\n",
                "\n",
                "start\\_date     : DATETIME2\n",
                "\n",
                "yearly\\_salary  : BIGINT"
            ],
            "metadata": {
                "azdata_cell_guid": "c18e67c8-addd-474f-8ecd-80a81ab2d148"
            },
            "attachments": {}
        },
        {
            "cell_type": "code",
            "source": [
                "SELECT * \r\n",
                "FROM lyft_drivers\r\n",
                "WHERE yearly_salary <= 30000 OR yearly_salary >= 70000;"
            ],
            "metadata": {
                "azdata_cell_guid": "7bb7100e-f24c-40a2-9d7d-bed50d0a9f91",
                "language": "sql"
            },
            "outputs": [],
            "execution_count": null
        }
    ]
}