{
    "metadata": {
        "kernelspec": {
            "name": "SQL",
            "display_name": "SQL",
            "language": "sql"
        },
        "language_info": {
            "name": "sql",
            "version": ""
        }
    },
    "nbformat_minor": 2,
    "nbformat": 4,
    "cells": [
        {
            "cell_type": "markdown",
            "source": [
                "# Churro Activity Date\n",
                "\n",
                "Last Updated: February 2025\n",
                "\n",
                "City of Los Angeles\n",
                "\n",
                "EasyID 9688\n",
                "\n",
                "102\n",
                "\n",
                "Data Engineer\n",
                "\n",
                "Data Scientist\n",
                "\n",
                "BI Analyst\n",
                "\n",
                "Data Analyst\n",
                "\n",
                "ML Engineer\n",
                "\n",
                "Software Engineer\n",
                "\n",
                "* * *\n",
                "\n",
                "Find the inspection date and risk category (`pe_description`) of facilities named 'STREET CHURROS' that received a score below 95.\n",
                "\n",
                "Table: los\\_angeles\\_restaurant\\_health\\_inspections\n",
                "\n",
                "los\\_angeles\\_restaurant\\_health\\_inspections\n",
                "\n",
                "\\--------------------------------------------------------------\n",
                "\n",
                "activity\\_date          : DATETIME2\n",
                "\n",
                "employee\\_id           : VARCHAR\n",
                "\n",
                "facility\\_address      : VARCHAR\n",
                "\n",
                "facility\\_city         : VARCHAR\n",
                "\n",
                "facility\\_id           : VARCHAR\n",
                "\n",
                "facility\\_name         : VARCHAR\n",
                "\n",
                "facility\\_state        : VARCHAR\n",
                "\n",
                "facility\\_zip          : VARCHAR\n",
                "\n",
                "grade                : VARCHAR\n",
                "\n",
                "owner\\_id             : VARCHAR\n",
                "\n",
                "owner\\_name           : VARCHAR\n",
                "\n",
                "pe\\_description       : VARCHAR\n",
                "\n",
                "program\\_element\\_pe   : BIGINT\n",
                "\n",
                "program\\_name         : VARCHAR\n",
                "\n",
                "program\\_status       : VARCHAR\n",
                "\n",
                "record\\_id            : VARCHAR\n",
                "\n",
                "score               : BIGINT\n",
                "\n",
                "serial\\_number       : VARCHAR\n",
                "\n",
                "service\\_code        : BIGINT\n",
                "\n",
                "service\\_description  : VARCHAR"
            ],
            "metadata": {
                "azdata_cell_guid": "3d594f7a-1e99-4a7a-8b6b-887333e170bf"
            },
            "attachments": {}
        },
        {
            "cell_type": "code",
            "source": [
                "SELECT activity_date, pe_description\r\n",
                "FROM los_angeles_restaurant_health_inspections\r\n",
                "WHERE facility_name = 'STREET CHURROS'\r\n",
                "AND score < 95;"
            ],
            "metadata": {
                "azdata_cell_guid": "50501ee2-cdff-4792-b454-018ac5dbca13",
                "language": "sql"
            },
            "outputs": [],
            "execution_count": null
        }
    ]
}