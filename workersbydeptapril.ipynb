{
    "metadata": {
        "kernelspec": {
            "name": "SQL",
            "display_name": "SQL",
            "language": "sql"
        },
        "language_info": {
            "name": "sql",
            "version": ""
        }
    },
    "nbformat_minor": 2,
    "nbformat": 4,
    "cells": [
        {
            "cell_type": "markdown",
            "source": [
                "# Workers by Department Since April\n",
                "\n",
                "Last Updated: October 2024\n",
                "\n",
                "Amazon\n",
                "\n",
                "EasyID 9847\n",
                "\n",
                "92\n",
                "\n",
                "Data Engineer\n",
                "\n",
                "Data Scientist\n",
                "\n",
                "BI Analyst\n",
                "\n",
                "Data Analyst\n",
                "\n",
                "ML Engineer\n",
                "\n",
                "* * *\n",
                "\n",
                "Find the number of workers by department who joined on or after April 1, 2014.\n",
                "\n",
                "Output the department name along with the corresponding number of workers.\n",
                "\n",
                "Sort the results based on the number of workers in descending order.\n",
                "\n",
                "Table: worker\n",
                "\n",
                "  \n",
                "\n",
                "department    : VARCHAR\n",
                "\n",
                "first\\_name    : VARCHAR\n",
                "\n",
                "joining\\_date  : DATETIME2\n",
                "\n",
                "last\\_name     : VARCHAR\n",
                "\n",
                "salary        : BIGINT\n",
                "\n",
                "worker\\_id     : BIGINT"
            ],
            "metadata": {
                "azdata_cell_guid": "9ecb9212-baff-46c2-8038-bcb91d6dc0b3"
            },
            "attachments": {}
        },
        {
            "cell_type": "code",
            "source": [
                "SELECT department, COUNT(worker_id) AS n_workers FROM worker\r\n",
                "    WHERE MONTH(joining_date) > 3\r\n",
                "GROUP BY department\r\n",
                "ORDER BY n_workers DESC;"
            ],
            "metadata": {
                "azdata_cell_guid": "eaadc97a-d33d-4080-89c8-b5110da6c9dd",
                "language": "sql"
            },
            "outputs": [],
            "execution_count": null
        }
    ]
}