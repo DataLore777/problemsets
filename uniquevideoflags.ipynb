{
    "metadata": {
        "kernelspec": {
            "name": "SQL",
            "display_name": "SQL",
            "language": "sql"
        },
        "language_info": {
            "name": "sql",
            "version": ""
        }
    },
    "nbformat_minor": 2,
    "nbformat": 4,
    "cells": [
        {
            "cell_type": "markdown",
            "source": [
                "# Flags per Video\n",
                "\n",
                "Last Updated: February 2025\n",
                "\n",
                "Netflix\n",
                "\n",
                "Google\n",
                "\n",
                "MediumID 2102\n",
                "\n",
                "91\n",
                "\n",
                "Data Engineer\n",
                "\n",
                "Data Scientist\n",
                "\n",
                "BI Analyst\n",
                "\n",
                "Data Analyst\n",
                "\n",
                "ML Engineer\n",
                "\n",
                "Software Engineer\n",
                "\n",
                "* * *\n",
                "\n",
                "For each video, find how many unique users flagged it. A unique user can be identified using the combination of their first name and last name. Do not consider rows in which there is no flag ID.\n",
                "\n",
                "Table: user\\_flags\n",
                "\n",
                "  \n",
                "\n",
                "  \n",
                "\n",
                "### user\\_flags\n",
                "\n",
                "flag\\_id:   varchar\n",
                "\n",
                "user\\_firstname:   varchar\n",
                "\n",
                "user\\_lastname:   varchar\n",
                "\n",
                "video\\_id:   varchar"
            ],
            "metadata": {
                "azdata_cell_guid": "b6862860-78c8-4130-bf7f-cde19f6f647b"
            },
            "attachments": {}
        },
        {
            "cell_type": "code",
            "source": [
                "WITH unique_users AS(\r\n",
                "    SELECT video_id,\r\n",
                "        CONCAT(COALESCE(user_firstname, ''), COALESCE(user_lastname, ''))\r\n",
                "        AS user_identifier\r\n",
                "    FROM user_flags\r\n",
                "    WHERE flag_id IS NOT NULL\r\n",
                ")\r\n",
                "\r\n",
                "SELECT video_id,\r\n",
                "    COUNT(DISTINCT user_identifier) AS num_unique_users\r\n",
                "FROM unique_users\r\n",
                "GROUP BY video_id;"
            ],
            "metadata": {
                "azdata_cell_guid": "0d0dedcf-00e6-4711-a6aa-518691c4186e",
                "language": "sql"
            },
            "outputs": [],
            "execution_count": null
        }
    ]
}