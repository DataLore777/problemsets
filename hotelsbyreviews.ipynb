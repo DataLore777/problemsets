{
    "metadata": {
        "kernelspec": {
            "name": "SQL",
            "display_name": "SQL",
            "language": "sql"
        },
        "language_info": {
            "name": "sql",
            "version": ""
        }
    },
    "nbformat_minor": 2,
    "nbformat": 4,
    "cells": [
        {
            "cell_type": "markdown",
            "source": [
                "# Highly Reviewed Hotels\n",
                "\n",
                "Last Updated: February 2025\n",
                "\n",
                "Amadeus\n",
                "\n",
                "Expedia\n",
                "\n",
                "Airbnb\n",
                "\n",
                "EasyID 9871\n",
                "\n",
                "4\n",
                "\n",
                "Data Engineer\n",
                "\n",
                "Data Scientist\n",
                "\n",
                "BI Analyst\n",
                "\n",
                "Data Analyst\n",
                "\n",
                "* * *\n",
                "\n",
                "List all hotels with their total number of reviews. Show the results sorted by the number of reviews from highest to lowest and output the hotel name along with the reviews.\n",
                "\n",
                "Table: hotel\\_reviews  \n",
                "\n",
                "  \n",
                "\n",
                "additional\\_number\\_of\\_scoring              : BIGINT\n",
                "\n",
                "average\\_score                             : FLOAT\n",
                "\n",
                "days\\_since\\_review                         : VARCHAR\n",
                "\n",
                "hotel\\_address                             : VARCHAR\n",
                "\n",
                "hotel\\_name                                : VARCHAR\n",
                "\n",
                "lat                                       : FLOAT\n",
                "\n",
                "lng                                       : FLOAT\n",
                "\n",
                "negative\\_review                           : VARCHAR\n",
                "\n",
                "positive\\_review                           : VARCHAR\n",
                "\n",
                "review\\_date                               : DATETIME2\n",
                "\n",
                "review\\_total\\_negative\\_word\\_counts        : BIGINT\n",
                "\n",
                "review\\_total\\_positive\\_word\\_counts        : BIGINT\n",
                "\n",
                "reviewer\\_nationality                      : VARCHAR\n",
                "\n",
                "reviewer\\_score                            : FLOAT\n",
                "\n",
                "tags                                      : VARCHAR\n",
                "\n",
                "total\\_number\\_of\\_reviews                   : BIGINT\n",
                "\n",
                "total\\_number\\_of\\_reviews\\_reviewer\\_has\\_given: BIGINT"
            ],
            "metadata": {
                "azdata_cell_guid": "c78505d2-8b70-4ffa-af9f-8942de6fb7e4"
            },
            "attachments": {}
        },
        {
            "cell_type": "markdown",
            "source": [
                "SELECT DISTINCT(hotel\\_name), total\\_number\\_of\\_reviews FROM hotel\\_reviews\n",
                "\n",
                "ORDER BY total\\_number\\_of\\_reviews DESC;"
            ],
            "metadata": {
                "azdata_cell_guid": "05afead1-6ae4-41c2-985f-a2cc70b63758"
            },
            "attachments": {}
        }
    ]
}