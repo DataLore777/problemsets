{
    "metadata": {
        "kernelspec": {
            "name": "SQL",
            "display_name": "SQL",
            "language": "sql"
        },
        "language_info": {
            "name": "sql",
            "version": ""
        }
    },
    "nbformat_minor": 2,
    "nbformat": 4,
    "cells": [
        {
            "cell_type": "markdown",
            "source": [
                "# Email Preference Missing\n",
                "\n",
                "Last Updated: July 2024\n",
                "\n",
                "City of San Francisco\n",
                "\n",
                "EasyID 9924\n",
                "\n",
                "104\n",
                "\n",
                "Data Engineer\n",
                "\n",
                "Data Scientist\n",
                "\n",
                "BI Analyst\n",
                "\n",
                "Data Analyst\n",
                "\n",
                "ML Engineer\n",
                "\n",
                "* * *\n",
                "\n",
                "Find libraries from the 2016 circulation year that have no email address provided but have their notice preference set to email. In your solution, output their home library code.\n",
                "\n",
                "Table: library\\_usage\n",
                "\n",
                "  \n",
                "\n",
                "library\\_usage\n",
                "\n",
                "\\----------------------------------------------------------\n",
                "\n",
                "age\\_range                        : VARCHAR\n",
                "\n",
                "circulation\\_active\\_month         : VARCHAR\n",
                "\n",
                "circulation\\_active\\_year          : FLOAT\n",
                "\n",
                "home\\_library\\_code                : VARCHAR\n",
                "\n",
                "home\\_library\\_definition          : VARCHAR\n",
                "\n",
                "notice\\_preference\\_code           : VARCHAR\n",
                "\n",
                "notice\\_preference\\_definition     : VARCHAR\n",
                "\n",
                "outside\\_of\\_county                : BIT\n",
                "\n",
                "patron\\_type\\_code                 : BIGINT\n",
                "\n",
                "patron\\_type\\_definition           : VARCHAR\n",
                "\n",
                "provided\\_email\\_address           : BIT\n",
                "\n",
                "supervisor\\_district              : FLOAT\n",
                "\n",
                "total\\_checkouts                  : BIGINT\n",
                "\n",
                "total\\_renewals                   : BIGINT\n",
                "\n",
                "year\\_patron\\_registered           : BIGINT"
            ],
            "metadata": {
                "azdata_cell_guid": "e02e680b-6ab1-4238-8802-b8e09f364d3b"
            },
            "attachments": {}
        },
        {
            "cell_type": "code",
            "source": [
                "SELECT DISTINCT(home_library_code)\r\n",
                "FROM library_usage\r\n",
                "WHERE circulation_active_year = 2016\r\n",
                "AND provided_email_address = 'FALSE'\r\n",
                "AND notice_preference_definition = 'email';"
            ],
            "metadata": {
                "azdata_cell_guid": "ee9405ca-d895-4085-b411-eee18d457a86",
                "language": "sql"
            },
            "outputs": [],
            "execution_count": null
        }
    ]
}