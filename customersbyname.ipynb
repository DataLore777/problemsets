{
    "metadata": {
        "kernelspec": {
            "name": "SQL",
            "display_name": "SQL",
            "language": "sql"
        },
        "language_info": {
            "name": "sql",
            "version": ""
        }
    },
    "nbformat_minor": 2,
    "nbformat": 4,
    "cells": [
        {
            "cell_type": "markdown",
            "source": [
                "# Customer Details\n",
                "\n",
                "Last Updated: February 2025\n",
                "\n",
                "Apple\n",
                "\n",
                "Amazon\n",
                "\n",
                "EasyID 9891\n",
                "\n",
                "234\n",
                "\n",
                "Data Engineer\n",
                "\n",
                "Data Scientist\n",
                "\n",
                "BI Analyst\n",
                "\n",
                "Data Analyst\n",
                "\n",
                "ML Engineer\n",
                "\n",
                "* * *\n",
                "\n",
                "Find the details of each customer regardless of whether the customer made an order. Output the customer's first name, last name, and the city along with the order details. Sort records based on the customer's first name and the order details in ascending order.\n",
                "\n",
                "Tables: customers, orders\n",
                "\n",
                "  \n",
                "\n",
                "### \n",
                "\n",
                "customers\n",
                "\n",
                "\\-------------------------\n",
                "\n",
                "address       : VARCHAR\n",
                "\n",
                "city          : VARCHAR\n",
                "\n",
                "first\\_name    : VARCHAR\n",
                "\n",
                "id            : BIGINT\n",
                "\n",
                "last\\_name     : VARCHAR\n",
                "\n",
                "phone\\_number  : VARCHAR\n",
                "\n",
                "  \n",
                "\n",
                "orders\n",
                "\n",
                "\\-------------------------\n",
                "\n",
                "cust\\_id          : BIGINT\n",
                "\n",
                "id               : BIGINT\n",
                "\n",
                "order\\_date       : DATETIME2\n",
                "\n",
                "order\\_details    : VARCHAR\n",
                "\n",
                "total\\_order\\_cost : BIGINT"
            ],
            "metadata": {
                "azdata_cell_guid": "f8a8b15d-65e0-4f09-ade9-c7ea6ecd72ae"
            },
            "attachments": {}
        },
        {
            "cell_type": "code",
            "source": [
                "SELECT customers.first_name, \r\n",
                "    customers.last_name, \r\n",
                "    customers.city, \r\n",
                "    orders.order_details \r\n",
                "FROM customers\r\n",
                "FULL JOIN orders\r\n",
                "ON customers.id = orders.cust_id\r\n",
                "ORDER BY customers.first_name, orders.order_details;"
            ],
            "metadata": {
                "azdata_cell_guid": "14cbb97c-c327-42de-bd40-03bd4544a3a3",
                "language": "sql"
            },
            "outputs": [],
            "execution_count": null
        }
    ]
}