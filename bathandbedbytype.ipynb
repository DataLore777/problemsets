{
    "metadata": {
        "kernelspec": {
            "name": "SQL",
            "display_name": "SQL",
            "language": "sql"
        },
        "language_info": {
            "name": "sql",
            "version": ""
        }
    },
    "nbformat_minor": 2,
    "nbformat": 4,
    "cells": [
        {
            "cell_type": "markdown",
            "source": [
                "# Number Of Bathrooms And Bedrooms\n",
                "\n",
                "Last Updated: February 2025\n",
                "\n",
                "Airbnb\n",
                "\n",
                "EasyID 9622\n",
                "\n",
                "221\n",
                "\n",
                "Data Engineer\n",
                "\n",
                "Data Scientist\n",
                "\n",
                "BI Analyst\n",
                "\n",
                "Data Analyst\n",
                "\n",
                "ML Engineer\n",
                "\n",
                "* * *\n",
                "\n",
                "Find the average number of bathrooms and bedrooms for each city’s property types. Output the result along with the city name and the property type.\n",
                "\n",
                "Table: airbnb\\_search\\_details\n",
                "\n",
                "  \n",
                "\n",
                "airbnb\\_search\\_details\n",
                "\n",
                "\\--------------------------------------------------\n",
                "\n",
                "accommodates              : BIGINT\n",
                "\n",
                "amenities                 : VARCHAR\n",
                "\n",
                "bathrooms                 : BIGINT\n",
                "\n",
                "bed\\_type                  : VARCHAR\n",
                "\n",
                "bedrooms                  : BIGINT\n",
                "\n",
                "beds                      : BIGINT\n",
                "\n",
                "cancellation\\_policy       : VARCHAR\n",
                "\n",
                "city                      : VARCHAR\n",
                "\n",
                "cleaning\\_fee              : BIT\n",
                "\n",
                "host\\_identity\\_verified    : VARCHAR\n",
                "\n",
                "host\\_response\\_rate        : VARCHAR\n",
                "\n",
                "host\\_since                : DATETIME2\n",
                "\n",
                "id                        : BIGINT\n",
                "\n",
                "neighbourhood             : VARCHAR\n",
                "\n",
                "number\\_of\\_reviews         : BIGINT\n",
                "\n",
                "price                     : FLOAT\n",
                "\n",
                "property\\_type             : VARCHAR\n",
                "\n",
                "review\\_scores\\_rating      : FLOAT\n",
                "\n",
                "room\\_type                 : VARCHAR\n",
                "\n",
                "zipcode                   : BIGINT"
            ],
            "metadata": {
                "azdata_cell_guid": "d1ef8178-5916-4fe4-8c0e-690cdae61979"
            },
            "attachments": {}
        },
        {
            "cell_type": "code",
            "source": [
                "SELECT city,\r\n",
                "    property_type,\r\n",
                "    AVG(CAST(bathrooms AS FLOAT)), \r\n",
                "    AVG(CAST(bedrooms AS FLOAT))\r\n",
                "FROM airbnb_search_details\r\n",
                "GROUP BY city, property_type;"
            ],
            "metadata": {
                "azdata_cell_guid": "181d3ad8-aab0-4c3c-bc10-fd0825f74024",
                "language": "sql"
            },
            "outputs": [],
            "execution_count": null
        }
    ]
}