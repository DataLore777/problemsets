{
    "metadata": {
        "kernelspec": {
            "name": "SQL",
            "display_name": "SQL",
            "language": "sql"
        },
        "language_info": {
            "name": "sql",
            "version": ""
        }
    },
    "nbformat_minor": 2,
    "nbformat": 4,
    "cells": [
        {
            "cell_type": "markdown",
            "source": [
                "# April Admin Employees\n",
                "\n",
                "Last Updated: August 2024\n",
                "\n",
                "Microsoft\n",
                "\n",
                "Amazon\n",
                "\n",
                "EasyID 9845\n",
                "\n",
                "83\n",
                "\n",
                "Data Engineer\n",
                "\n",
                "Data Scientist\n",
                "\n",
                "BI Analyst\n",
                "\n",
                "Data Analyst\n",
                "\n",
                "ML Engineer\n",
                "\n",
                "Software Engineer\n",
                "\n",
                "* * *\n",
                "\n",
                "Find the number of employees working in the Admin department that joined in April or later.\n",
                "\n",
                "worker\n",
                "\n",
                "\\-------------------------\n",
                "\n",
                "department    : VARCHAR\n",
                "\n",
                "first\\_name    : VARCHAR\n",
                "\n",
                "joining\\_date  : DATETIME2\n",
                "\n",
                "last\\_name     : VARCHAR\n",
                "\n",
                "salary        : BIGINT\n",
                "\n",
                "worker\\_id     : BIGINT"
            ],
            "metadata": {
                "azdata_cell_guid": "572c4774-f3f6-4e06-a983-9a2e9a0e38df"
            },
            "attachments": {}
        },
        {
            "cell_type": "code",
            "source": [
                "SELECT COUNT(worker_id) FROM worker\r\n",
                "WHERE MONTH(joining_date) > 3 AND department = 'admin';"
            ],
            "metadata": {
                "azdata_cell_guid": "fc2c3ecd-30b6-4c7b-b8db-aa9600da639d",
                "language": "sql"
            },
            "outputs": [],
            "execution_count": null
        }
    ]
}