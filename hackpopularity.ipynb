{
    "metadata": {
        "kernelspec": {
            "name": "SQL",
            "display_name": "SQL",
            "language": "sql"
        },
        "language_info": {
            "name": "sql",
            "version": ""
        }
    },
    "nbformat_minor": 2,
    "nbformat": 4,
    "cells": [
        {
            "cell_type": "markdown",
            "source": [
                "# Popularity of Hack\n",
                "\n",
                "Last Updated: August 2024\n",
                "\n",
                "Meta\n",
                "\n",
                "EasyID 10061\n",
                "\n",
                "228\n",
                "\n",
                "Data Engineer\n",
                "\n",
                "Data Scientist\n",
                "\n",
                "BI Analyst\n",
                "\n",
                "Data Analyst\n",
                "\n",
                "ML Engineer\n",
                "\n",
                "* * *\n",
                "\n",
                "Meta/Facebook has developed a new programing language called Hack.To measure the popularity of Hack they ran a survey with their employees. The survey included data on previous programing familiarity as well as the number of years of experience, age, gender and most importantly satisfaction with Hack. Due to an error location data was not collected, but your supervisor demands a report showing average popularity of Hack by office location. Luckily the user IDs of employees completing the surveys were stored. Based on the above, find the average popularity of the Hack per office location. Output the location along with the average popularity.\n",
                "\n",
                "Tables: facebook\\_employees, facebook\\_hack\\_survey\n",
                "\n",
                "  \n",
                "\n",
                "general\\_table\n",
                "\n",
                "\\---------------------------------\n",
                "\n",
                "age         : BIGINT\n",
                "\n",
                "gender      : VARCHAR\n",
                "\n",
                "id          : BIGINT\n",
                "\n",
                "is\\_senior   : BIT\n",
                "\n",
                "location    : VARCHAR\n",
                "\n",
                "  \n",
                "\n",
                "facebook\\_hack\\_survey\n",
                "\n",
                "\\---------------------------------\n",
                "\n",
                "age          : BIGINT\n",
                "\n",
                "employee\\_id  : BIGINT\n",
                "\n",
                "gender       : VARCHAR\n",
                "\n",
                "popularity   : BIGINT"
            ],
            "metadata": {
                "azdata_cell_guid": "a43ec3bc-103c-4cde-a6fc-755517d6c7b6"
            },
            "attachments": {}
        },
        {
            "cell_type": "code",
            "source": [
                "SELECT location, AVG(CAST(popularity AS float))\r\n",
                "FROM facebook_employees e\r\n",
                "JOIN facebook_hack_survey h\r\n",
                "ON e.id = h.employee_id\r\n",
                "GROUP BY location;"
            ],
            "metadata": {
                "azdata_cell_guid": "241ba407-8fa5-4a41-be9c-e2da58410a8f",
                "language": "sql"
            },
            "outputs": [],
            "execution_count": null
        }
    ]
}