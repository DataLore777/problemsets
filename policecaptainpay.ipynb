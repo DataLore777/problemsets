{
    "metadata": {
        "kernelspec": {
            "name": "SQL",
            "display_name": "SQL",
            "language": "sql"
        },
        "language_info": {
            "name": "sql",
            "version": ""
        }
    },
    "nbformat_minor": 2,
    "nbformat": 4,
    "cells": [
        {
            "cell_type": "markdown",
            "source": [
                "# Captain Base Pay\n",
                "\n",
                "Last Updated: June 2024\n",
                "\n",
                "City of San Francisco\n",
                "\n",
                "EasyID 9972\n",
                "\n",
                "130\n",
                "\n",
                "Data Engineer\n",
                "\n",
                "Data Scientist\n",
                "\n",
                "BI Analyst\n",
                "\n",
                "Data Analyst\n",
                "\n",
                "ML Engineer\n",
                "\n",
                "Software Engineer\n",
                "\n",
                "* * *\n",
                "\n",
                "Find the base pay for Police Captains. Output the employee name along with the corresponding base pay.\n",
                "\n",
                "Table: sf\\_public\\_salaries\n",
                "\n",
                "* * *\n",
                "\n",
                "  \n",
                "\n",
                "sf\\_public\\_salaries\n",
                "\n",
                "\\----------------------------------------\n",
                "\n",
                "agency               : VARCHAR\n",
                "\n",
                "basepay              : FLOAT\n",
                "\n",
                "benefits             : FLOAT\n",
                "\n",
                "employee\\_name        : VARCHAR\n",
                "\n",
                "id                   : BIGINT\n",
                "\n",
                "job\\_title            : VARCHAR\n",
                "\n",
                "notes                : FLOAT\n",
                "\n",
                "otherpay             : FLOAT\n",
                "\n",
                "overtimepay          : FLOAT\n",
                "\n",
                "status               : VARCHAR\n",
                "\n",
                "totalpay             : FLOAT\n",
                "\n",
                "totalpaybenefits     : FLOAT\n",
                "\n",
                "year                 : BIGINT"
            ],
            "metadata": {
                "azdata_cell_guid": "fc3e81ea-8e34-4886-8f0b-b5fd89f83938"
            },
            "attachments": {}
        },
        {
            "cell_type": "code",
            "source": [
                "SELECT employeename, basepay\r\n",
                "FROM sf_public_salaries\r\n",
                "WHERE jobtitle = 'CAPTAIN III (POLICE DEPARTMENT)';"
            ],
            "metadata": {
                "azdata_cell_guid": "95b6eaf1-23a1-422f-9702-d78a2a829010",
                "language": "sql"
            },
            "outputs": [],
            "execution_count": null
        }
    ]
}