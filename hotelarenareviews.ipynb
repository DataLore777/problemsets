{
    "metadata": {
        "kernelspec": {
            "name": "SQL",
            "display_name": "SQL",
            "language": "sql"
        },
        "language_info": {
            "name": "sql",
            "version": ""
        }
    },
    "nbformat_minor": 2,
    "nbformat": 4,
    "cells": [
        {
            "cell_type": "markdown",
            "source": [
                "# Reviews of Hotel Arena\n",
                "\n",
                "Last Updated: February 2025\n",
                "\n",
                "Expedia\n",
                "\n",
                "Airbnb\n",
                "\n",
                "EasyID 10166\n",
                "\n",
                "146\n",
                "\n",
                "Data Engineer\n",
                "\n",
                "Data Scientist\n",
                "\n",
                "BI Analyst\n",
                "\n",
                "Data Analyst\n",
                "\n",
                "ML Engineer\n",
                "\n",
                "* * *\n",
                "\n",
                "Find how many reviews exist for each review score given to 'Hotel Arena'. Output the hotel name ('Hotel Arena'), each review score, and the number of reviews for that score. Ensure the results only include 'Hotel Arena.'\n",
                "\n",
                "Table: hotel\\_reviews\n",
                "\n",
                "  \n",
                "\n",
                "hotel\\_reviews\n",
                "\n",
                "\\--------------------------------------------------------------\n",
                "\n",
                "additional\\_number\\_of\\_scoring               : BIGINT\n",
                "\n",
                "average\\_score                              : FLOAT\n",
                "\n",
                "days\\_since\\_review                          : VARCHAR\n",
                "\n",
                "hotel\\_address                              : VARCHAR\n",
                "\n",
                "hotel\\_name                                 : VARCHAR\n",
                "\n",
                "lat                                        : FLOAT\n",
                "\n",
                "lng                                        : FLOAT\n",
                "\n",
                "negative\\_review                            : VARCHAR\n",
                "\n",
                "positive\\_review                            : VARCHAR\n",
                "\n",
                "review\\_date                                : DATETIME2\n",
                "\n",
                "review\\_total\\_negative\\_word\\_counts         : BIGINT\n",
                "\n",
                "review\\_total\\_positive\\_word\\_counts         : BIGINT\n",
                "\n",
                "reviewer\\_nationality                       : VARCHAR\n",
                "\n",
                "reviewer\\_score                             : FLOAT\n",
                "\n",
                "tags                                       : VARCHAR\n",
                "\n",
                "total\\_number\\_of\\_reviews                    : BIGINT\n",
                "\n",
                "total\\_number\\_of\\_reviews\\_reviewer\\_has\\_given : BIGINT"
            ],
            "metadata": {
                "azdata_cell_guid": "a3c31609-0143-4c66-ad60-690617c6f399"
            },
            "attachments": {}
        },
        {
            "cell_type": "code",
            "source": [
                "SELECT hotel_name, reviewer_score, COUNT(*) AS count\r\n",
                "FROM hotel_reviews\r\n",
                "WHERE hotel_name = 'Hotel Arena'\r\n",
                "GROUP BY hotel_name, reviewer_score;"
            ],
            "metadata": {
                "azdata_cell_guid": "a1ef7d06-7e9f-4b5d-a87d-3523de0c7e50",
                "language": "sql"
            },
            "outputs": [],
            "execution_count": null
        }
    ]
}