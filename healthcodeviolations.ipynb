{
    "metadata": {
        "kernelspec": {
            "name": "SQL",
            "display_name": "SQL",
            "language": "sql"
        },
        "language_info": {
            "name": "sql",
            "version": ""
        }
    },
    "nbformat_minor": 2,
    "nbformat": 4,
    "cells": [
        {
            "cell_type": "markdown",
            "source": [
                "# Number of violations\n",
                "\n",
                "Last Updated: February 2025\n",
                "\n",
                "City of San Francisco\n",
                "\n",
                "EasyID 9728\n",
                "\n",
                "83\n",
                "\n",
                "Data Engineer\n",
                "\n",
                "Data Scientist\n",
                "\n",
                "BI Analyst\n",
                "\n",
                "Data Analyst\n",
                "\n",
                "ML Engineer\n",
                "\n",
                "* * *\n",
                "\n",
                "You are given a dataset of health inspections that includes details about violations. Each row represents an inspection, and if an inspection resulted in a violation, the `violation_id` column will contain a value.\n",
                "\n",
                "Count the total number of violations that occurred at **'Roxanne Cafe'** for each year, based on the inspection date. Output the year and the corresponding number of violations in ascending order of the year.\n",
                "\n",
                "Table: sf\\_restaurant\\_health\\_violations\n",
                "\n",
                "  \n",
                "\n",
                "sf\\_restaurant\\_health\\_violations\n",
                "\n",
                "\\--------------------------------------------------------------\n",
                "\n",
                "business\\_address          : VARCHAR\n",
                "\n",
                "business\\_city            : VARCHAR\n",
                "\n",
                "business\\_id              : BIGINT\n",
                "\n",
                "business\\_latitude        : FLOAT\n",
                "\n",
                "business\\_location        : VARCHAR\n",
                "\n",
                "business\\_longitude       : FLOAT\n",
                "\n",
                "business\\_name            : VARCHAR\n",
                "\n",
                "business\\_phone\\_number    : FLOAT\n",
                "\n",
                "business\\_postal\\_code     : FLOAT\n",
                "\n",
                "business\\_state           : VARCHAR\n",
                "\n",
                "inspection\\_date         : DATETIME2\n",
                "\n",
                "inspection\\_id           : VARCHAR\n",
                "\n",
                "inspection\\_score        : FLOAT\n",
                "\n",
                "inspection\\_type         : VARCHAR\n",
                "\n",
                "risk\\_category           : VARCHAR\n",
                "\n",
                "violation\\_description   : VARCHAR\n",
                "\n",
                "violation\\_id            : VARCHAR"
            ],
            "metadata": {
                "azdata_cell_guid": "5ada69d6-85fc-41a8-a011-eb9da0ff0fb4"
            },
            "attachments": {}
        },
        {
            "cell_type": "code",
            "source": [
                "SELECT YEAR(inspection_date), COUNT(violation_id)\r\n",
                "FROM sf_restaurant_health_violations\r\n",
                "WHERE business_name = 'Roxanne Cafe'\r\n",
                "GROUP BY YEAR(inspection_date)\r\n",
                "ORDER BY YEAR(inspection_date) ASC;"
            ],
            "metadata": {
                "azdata_cell_guid": "3a3e7713-1a21-458c-b744-4346d0af1c00",
                "language": "sql"
            },
            "outputs": [],
            "execution_count": null
        }
    ]
}