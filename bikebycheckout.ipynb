{
    "metadata": {
        "kernelspec": {
            "name": "SQL",
            "display_name": "SQL",
            "language": "sql"
        },
        "language_info": {
            "name": "sql",
            "version": ""
        }
    },
    "nbformat_minor": 2,
    "nbformat": 4,
    "cells": [
        {
            "cell_type": "markdown",
            "source": [
                "# Bikes Last Used\n",
                "\n",
                "Last Updated: February 2025\n",
                "\n",
                "DoorDash\n",
                "\n",
                "Lyft\n",
                "\n",
                "EasyID 10176\n",
                "\n",
                "329\n",
                "\n",
                "Data Engineer\n",
                "\n",
                "Data Scientist\n",
                "\n",
                "BI Analyst\n",
                "\n",
                "Data Analyst\n",
                "\n",
                "ML Engineer\n",
                "\n",
                "* * *\n",
                "\n",
                "Find the last time each bike was in use. Output both the bike number and the date-timestamp of the bike's last use (i.e., the date-time the bike was returned). Order the results by bikes that were most recently used.\n",
                "\n",
                "Table: dc\\_bikeshare\\_q1\\_2012\n",
                "\n",
                "  \n",
                "\n",
                "bike\\_number      : VARCHAR\n",
                "\n",
                "duration         : VARCHAR\n",
                "\n",
                "duration\\_seconds : BIGINT\n",
                "\n",
                "end\\_station      : VARCHAR\n",
                "\n",
                "end\\_terminal     : BIGINT\n",
                "\n",
                "end\\_time         : DATETIME2\n",
                "\n",
                "id               : BIGINT\n",
                "\n",
                "rider\\_type       : VARCHAR\n",
                "\n",
                "start\\_station    : VARCHAR\n",
                "\n",
                "start\\_terminal   : BIGINT\n",
                "\n",
                "start\\_time       : DATETIME2\n",
                "\n",
                "* * *"
            ],
            "metadata": {
                "azdata_cell_guid": "2aa026ee-4da3-4b43-a738-456dad103d72"
            },
            "attachments": {}
        },
        {
            "cell_type": "code",
            "source": [
                "SELECT bike_number, MAX(end_time) FROM dc_bikeshare_q1_2012\r\n",
                "GROUP BY bike_number\r\n",
                "ORDER BY MAX(end_time) DESC;"
            ],
            "metadata": {
                "azdata_cell_guid": "191a967d-0826-4752-9002-2a7283dca9c2",
                "language": "sql"
            },
            "outputs": [],
            "execution_count": null
        }
    ]
}