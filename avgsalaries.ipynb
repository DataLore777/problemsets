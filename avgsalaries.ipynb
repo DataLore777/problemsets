{
    "metadata": {
        "kernelspec": {
            "name": "SQL",
            "display_name": "SQL",
            "language": "sql"
        },
        "language_info": {
            "name": "sql",
            "version": ""
        }
    },
    "nbformat_minor": 2,
    "nbformat": 4,
    "cells": [
        {
            "cell_type": "markdown",
            "source": [
                "# Average Salaries\n",
                "\n",
                "Last Updated: February 2025\n",
                "\n",
                "Glassdoor\n",
                "\n",
                "Salesforce\n",
                "\n",
                "EasyID 9917\n",
                "\n",
                "289\n",
                "\n",
                "Data Engineer\n",
                "\n",
                "Data Scientist\n",
                "\n",
                "BI Analyst\n",
                "\n",
                "Data Analyst\n",
                "\n",
                "ML Engineer\n",
                "\n",
                "* * *\n",
                "\n",
                "Compare each employee's salary with the average salary of the corresponding department. Output the department, first name, and salary of employees along with the average salary of that department.\n",
                "\n",
                "Table: employee\n",
                "\n",
                "  \n",
                "\n",
                "employee\n",
                "\n",
                "\\---------------------------------------\n",
                "\n",
                "address          : VARCHAR\n",
                "\n",
                "age             : BIGINT\n",
                "\n",
                "bonus           : BIGINT\n",
                "\n",
                "city            : VARCHAR\n",
                "\n",
                "department      : VARCHAR\n",
                "\n",
                "email           : VARCHAR\n",
                "\n",
                "employee\\_title  : VARCHAR\n",
                "\n",
                "first\\_name      : VARCHAR\n",
                "\n",
                "id              : BIGINT\n",
                "\n",
                "last\\_name       : VARCHAR\n",
                "\n",
                "manager\\_id      : BIGINT\n",
                "\n",
                "salary          : BIGINT\n",
                "\n",
                "sex             : VARCHAR\n",
                "\n",
                "target          : BIGINT"
            ],
            "metadata": {
                "azdata_cell_guid": "9318a780-1b06-434e-9b20-ed64e627eeea"
            },
            "attachments": {}
        },
        {
            "cell_type": "code",
            "source": [
                "WITH cte AS(\r\n",
                "    SELECT department, AVG(salary) AS avg_salary\r\n",
                "    FROM employee\r\n",
                "    GROUP BY department\r\n",
                "    )\r\n",
                "\r\n",
                "SELECT e.department, e.first_name, e.salary, c.avg_salary\r\n",
                "FROM employee AS e\r\n",
                "LEFT JOIN cte AS c\r\n",
                "ON e.department = c.department;"
            ],
            "metadata": {
                "azdata_cell_guid": "01c9c290-0825-4988-bf24-d655ad7a0e47",
                "language": "sql"
            },
            "outputs": [],
            "execution_count": null
        }
    ]
}