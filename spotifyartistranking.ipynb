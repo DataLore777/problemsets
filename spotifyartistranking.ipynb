{
    "metadata": {
        "kernelspec": {
            "name": "SQL",
            "display_name": "SQL",
            "language": "sql"
        },
        "language_info": {
            "name": "sql",
            "version": ""
        }
    },
    "nbformat_minor": 2,
    "nbformat": 4,
    "cells": [
        {
            "cell_type": "markdown",
            "source": [
                "# Artist Appearance Count\n",
                "\n",
                "Last Updated: February 2025\n",
                "\n",
                "Spotify\n",
                "\n",
                "EasyID 9992\n",
                "\n",
                "171\n",
                "\n",
                "Data Engineer\n",
                "\n",
                "Data Scientist\n",
                "\n",
                "BI Analyst\n",
                "\n",
                "Data Analyst\n",
                "\n",
                "ML Engineer\n",
                "\n",
                "* * *\n",
                "\n",
                "Find how many times each artist appeared on the Spotify ranking list. Output the artist name along with the corresponding number of occurrences. Order records by the number of occurrences in descending order.\n",
                "\n",
                "Table: spotify\\_worldwide\\_daily\\_song\\_ranking\n",
                "\n",
                "  \n",
                "\n",
                "spotify\\_worldwide\\_daily\\_song\\_ranking\n",
                "\n",
                "\\--------------------------------------------------\n",
                "\n",
                "artist        : VARCHAR\n",
                "\n",
                "id            : BIGINT\n",
                "\n",
                "position      : BIGINT\n",
                "\n",
                "region        : VARCHAR\n",
                "\n",
                "stream\\_date   : DATETIME2\n",
                "\n",
                "streams       : BIGINT\n",
                "\n",
                "trackname     : VARCHAR\n",
                "\n",
                "url           : VARCHAR"
            ],
            "metadata": {
                "azdata_cell_guid": "44f76dae-d0ef-4523-91dd-83d00e7b3bc0"
            },
            "attachments": {}
        },
        {
            "cell_type": "code",
            "source": [
                "SELECT artist, COUNT(*)\r\n",
                "FROM spotify_worldwide_daily_song_ranking\r\n",
                "GROUP BY artist\r\n",
                "ORDER BY COUNT(*) DESC;"
            ],
            "metadata": {
                "azdata_cell_guid": "6bc6503e-22b3-4848-9a92-9fa2314433f0",
                "language": "sql"
            },
            "outputs": [],
            "execution_count": null
        }
    ]
}