{
    "metadata": {
        "kernelspec": {
            "name": "SQL",
            "display_name": "SQL",
            "language": "sql"
        },
        "language_info": {
            "name": "sql",
            "version": ""
        }
    },
    "nbformat_minor": 2,
    "nbformat": 4,
    "cells": [
        {
            "cell_type": "markdown",
            "source": [
                "# Order Details\n",
                "\n",
                "Last Updated: February 2025\n",
                "\n",
                "Shopify\n",
                "\n",
                "Amazon\n",
                "\n",
                "EasyID 9913\n",
                "\n",
                "220\n",
                "\n",
                "Data Engineer\n",
                "\n",
                "Data Scientist\n",
                "\n",
                "BI Analyst\n",
                "\n",
                "Data Analyst\n",
                "\n",
                "ML Engineer\n",
                "\n",
                "* * *\n",
                "\n",
                "Find order details made by Jill and Eva. Consider the Jill and Eva as first names of customers. Output the order date, details and cost along with the first name. Order records based on the customer id in ascending order.\n",
                "\n",
                "Tables: customers, orders\n",
                "\n",
                "  \n",
                "\n",
                "customers\n",
                "\n",
                "\\---------------------------------\n",
                "\n",
                "address       : VARCHAR\n",
                "\n",
                "city          : VARCHAR\n",
                "\n",
                "first\\_name    : VARCHAR\n",
                "\n",
                "id            : BIGINT\n",
                "\n",
                "last\\_name     : VARCHAR\n",
                "\n",
                "phone\\_number  : VARCHAR\n",
                "\n",
                "  \n",
                "\n",
                "orders\n",
                "\n",
                "\\---------------------------------\n",
                "\n",
                "cust\\_id          : BIGINT\n",
                "\n",
                "id               : BIGINT\n",
                "\n",
                "order\\_date       : DATETIME2\n",
                "\n",
                "order\\_details    : VARCHAR\n",
                "\n",
                "total\\_order\\_cost : BIGINT"
            ],
            "metadata": {
                "azdata_cell_guid": "82b8d8e7-0ae0-4424-a21d-1fe13a5385b3"
            },
            "attachments": {}
        },
        {
            "cell_type": "code",
            "source": [
                "SELECT c.first_name, o.order_date, o.order_details, o.total_order_cost \r\n",
                "FROM orders AS o\r\n",
                "LEFT JOIN customers AS c\r\n",
                "ON o.cust_id = c.id\r\n",
                "WHERE c.first_name = 'Jill' OR c.first_name = 'Eva'\r\n",
                "ORDER BY o.cust_id;"
            ],
            "metadata": {
                "azdata_cell_guid": "e34fb9c3-e745-4d65-83a2-3e761ddb9e28",
                "language": "sql"
            },
            "outputs": [],
            "execution_count": null
        }
    ]
}