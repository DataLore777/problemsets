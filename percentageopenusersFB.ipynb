{
    "metadata": {
        "kernelspec": {
            "name": "SQL",
            "display_name": "SQL",
            "language": "sql"
        },
        "language_info": {
            "name": "sql",
            "version": ""
        }
    },
    "nbformat_minor": 2,
    "nbformat": 4,
    "cells": [
        {
            "cell_type": "markdown",
            "source": [
                "# Share of Active Users\n",
                "\n",
                "Last Updated: February 2025\n",
                "\n",
                "Meta\n",
                "\n",
                "MediumID 2005\n",
                "\n",
                "89\n",
                "\n",
                "Data Engineer\n",
                "\n",
                "Data Scientist\n",
                "\n",
                "BI Analyst\n",
                "\n",
                "Data Analyst\n",
                "\n",
                "* * *\n",
                "\n",
                "Output share of US users that are active. Active users are the ones with an \"open\" status in the table `fb_active_users`.\n",
                "\n",
                "Table: fb\\_active\\_users\n",
                "\n",
                "  \n",
                "\n",
                "fb\\_active\\_users\n",
                "\n",
                "\\---------------------------------\n",
                "\n",
                "country   : VARCHAR\n",
                "\n",
                "name      : VARCHAR\n",
                "\n",
                "status    : VARCHAR\n",
                "\n",
                "user\\_id   : BIGINT"
            ],
            "metadata": {
                "azdata_cell_guid": "c0709e87-4202-4cd9-a161-48e962341b1d"
            },
            "attachments": {}
        },
        {
            "cell_type": "code",
            "source": [
                "WITH num AS (\r\n",
                "    SELECT COUNT(DISTINCT user_id) AS open_users\r\n",
                "    FROM fb_active_users\r\n",
                "    WHERE status = 'open'\r\n",
                "),\r\n",
                "denom AS (\r\n",
                "    SELECT COUNT(DISTINCT user_id) AS total_users\r\n",
                "    FROM fb_active_users\r\n",
                ")\r\n",
                "\r\n",
                "SELECT (num.open_users / denom.total_users)\r\n",
                "FROM num, denom;"
            ],
            "metadata": {
                "azdata_cell_guid": "60bcc98a-b84b-484f-b752-bdf1de5029eb",
                "language": "sql"
            },
            "outputs": [],
            "execution_count": null
        }
    ]
}