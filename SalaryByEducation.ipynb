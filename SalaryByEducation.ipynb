{
    "metadata": {
        "kernelspec": {
            "name": "SQL",
            "display_name": "SQL",
            "language": "sql"
        },
        "language_info": {
            "name": "sql",
            "version": ""
        }
    },
    "nbformat_minor": 2,
    "nbformat": 4,
    "cells": [
        {
            "cell_type": "markdown",
            "source": [
                "# Salary by Education\n",
                "\n",
                "Last Updated: October 2024\n",
                "\n",
                "Google\n",
                "\n",
                "EasyID 2100\n",
                "\n",
                "42\n",
                "\n",
                "Data Engineer\n",
                "\n",
                "Data Scientist\n",
                "\n",
                "BI Analyst\n",
                "\n",
                "Data Analyst\n",
                "\n",
                "ML Engineer\n",
                "\n",
                "* * *\n",
                "\n",
                "Given the education levels and salaries of a group of individuals, find what is the average salary for each level of education.\n",
                "\n",
                "  \n",
                "\n",
                "### google\\_salaries\n",
                "\n",
                "department   : VARCHAR\n",
                "\n",
                "education    : VARCHAR\n",
                "\n",
                "first\\_name   : VARCHAR\n",
                "\n",
                "id           : BIGINT\n",
                "\n",
                "last\\_name    : VARCHAR\n",
                "\n",
                "salary       : BIGINT"
            ],
            "metadata": {
                "azdata_cell_guid": "9df83423-dc5d-402c-bbee-676d3177dc7e"
            },
            "attachments": {}
        },
        {
            "cell_type": "code",
            "source": [
                "SELECT education, AVG(salary) FROM google_salaries\r\n",
                "GROUP BY education;"
            ],
            "metadata": {
                "azdata_cell_guid": "2b1f4e9a-26d6-4132-b882-f87c262171a9",
                "language": "sql"
            },
            "outputs": [],
            "execution_count": null
        }
    ]
}